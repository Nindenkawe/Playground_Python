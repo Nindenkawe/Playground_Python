{
 "cells": [
  {
   "cell_type": "markdown",
   "metadata": {},
   "source": [
    "# Re-visiting the fundamentals with Adrian's tutorion (Python for analysis by grow with google)\n",
    "\n",
    "To help me better understand key fundamentals of python especial in relation to data manipulation and playing arround with variable,\n",
    "data structures and Mutable and Immutable data types.\n",
    "\n",
    "Also the course has helped me understand better loops, functions and other usefull tools i will need as data analyst\n",
    "This repo and the notebooks in it are here to showcase my familiarity with Python in relation to data analytics you can also see my other repositories to see other technologies I have been learning like Django and Docker."
   ]
  },
  {
   "cell_type": "code",
   "execution_count": 14,
   "metadata": {},
   "outputs": [
    {
     "name": "stdout",
     "output_type": "stream",
     "text": [
      "guess fora umubare hagati ya 5 na 25:\n",
      "Hoya! gerageza nanone\n",
      "guess fora umubare hagati ya 5 na 25:\n",
      "Hoya! gerageza nanone\n",
      "guess fora umubare hagati ya 5 na 25:\n",
      "Hoya! gerageza nanone\n",
      "guess fora umubare hagati ya 5 na 25:\n",
      "Hoya! gerageza nanone\n",
      "guess fora umubare hagati ya 5 na 25:\n",
      "watsinze. Umubare nyao wari...23..\n"
     ]
    }
   ],
   "source": [
    "#Working with whileloops\n",
    "import random\n",
    "\n",
    "number = random.randint(1,25)\n",
    "number_of_guessess = 0\n",
    "\n",
    "while number_of_guessess < 5:\n",
    "    print('guess fora umubare hagati ya 5 na 25:')\n",
    "    guess = input()\n",
    "    guess = int(guess)\n",
    "    number_of_guessess += 1\n",
    "\n",
    "    if guess == number:\n",
    "        break\n",
    "    elif number_of_guessess == 5:\n",
    "        break\n",
    "    else:\n",
    "        print('Hoya! gerageza nanone')\n",
    "\n",
    "if guess == number:\n",
    "    print('wabitoye! wafoye umubare nyawo' +str(number_of_guessess)+ 'gerageza')\n",
    "\n",
    "else:\n",
    "    print('watsinze. Umubare nyao wari...'+ str(number)+ '..')"
   ]
  },
  {
   "cell_type": "code",
   "execution_count": 15,
   "metadata": {},
   "outputs": [
    {
     "name": "stdout",
     "output_type": "stream",
     "text": [
      "['net_written_premiums']\n",
      "\n",
      "I'm done.\n"
     ]
    }
   ],
   "source": [
    "\"\"\" #understading forloops\n",
    "\n",
    "for number_of_car in range(5):\n",
    "    print(number_of_car) \"\"\"\n",
    "\n",
    "with open(\"Insurance.csv\") as f:\n",
    "    for line in f:\n",
    "        line = ['net_written_premiums']\n",
    "        print(line)\n",
    "print('\\nI\\'m done.')"
   ]
  },
  {
   "cell_type": "code",
   "execution_count": 16,
   "metadata": {},
   "outputs": [
    {
     "name": "stdout",
     "output_type": "stream",
     "text": [
      "you can make minimum 80K + USgo get that gwalagwala \n",
      "If you keep learning go get that gwalagwala\n"
     ]
    }
   ],
   "source": [
    "#the formt() methode\n",
    "expected_gwalagwala_per_yr = \"80K + US\"\n",
    "motivation = \"go get that gwalagwala\"\n",
    "learn = expected_gwalagwala_per_yr + motivation\n",
    "print(\"you can make minimum {} \\nIf you keep learning {}\".format(learn, motivation))"
   ]
  },
  {
   "cell_type": "code",
   "execution_count": 17,
   "metadata": {},
   "outputs": [
    {
     "name": "stdout",
     "output_type": "stream",
     "text": [
      "2\n"
     ]
    },
    {
     "data": {
      "text/plain": [
       "tuple"
      ]
     },
     "execution_count": 17,
     "metadata": {},
     "output_type": "execute_result"
    }
   ],
   "source": [
    "#iterate, find, remove and replace variables in a lists & unpacking a tuple\n",
    "list_eg = ['here', 'I am', 'learning','python','late','@', 1, 'am']\n",
    "list_eg.append('kigali'.capitalize())\n",
    "list_eg.insert(2,\"10\")\n",
    "list_eg.remove('am')\n",
    "list_eg = tuple(list_eg)\n",
    "print(list_eg [7]+1)\n",
    "'Pyo'in list_eg\n",
    "type(list_eg)\n",
    "\n",
    "#a list comprehention(is like a forloop writen in reverse) \n",
    "#LC_list_eg = [list_item[0] + list_item[2] for list_item in list_eg]\n",
    "\n",
    "#LC_list_eg == list_eg"
   ]
  },
  {
   "cell_type": "code",
   "execution_count": 18,
   "metadata": {},
   "outputs": [
    {
     "name": "stdout",
     "output_type": "stream",
     "text": [
      "Name:             dev1 \n",
      "Rating:           4.5\n",
      "Post:             forntend\n",
      "Name:             dev2 \n",
      "Rating:           3.2\n",
      "Post:              backend\n",
      "Name:             dev3 \n",
      "Rating:           4.8\n",
      "Post:               devops\n",
      "Name:         Teamlead \n",
      "Rating:           4.1\n",
      "Post:             PManager\n",
      "Name:        Teamlead2 \n",
      "Rating:             4\n",
      "Post:             PManager\n"
     ]
    }
   ],
   "source": [
    "#tuple\n",
    "\n",
    "dev_list = [('dev1',4.5,'forntend'),\n",
    "            ('dev2',3.2,'backend'),\n",
    "            ('dev3',4.8,'devops'),\n",
    "            ('Teamlead',4.1,'PManager'),\n",
    "            ('Teamlead2',4,'PManager')\n",
    "        ]\n",
    "def app_licycle(member):\n",
    "    result =[]\n",
    "    for name, rating, post in member:\n",
    "        result.append('Name: {:>16} \\nRating: {:>13}\\nPost: {:>20}'.format(name, rating, post))\n",
    "    return result\n",
    "\n",
    "for name in app_licycle(dev_list):\n",
    "    print(name)\n"
   ]
  },
  {
   "cell_type": "code",
   "execution_count": 26,
   "metadata": {},
   "outputs": [
    {
     "data": {
      "text/plain": [
       "[{4.1, 'Teamlead'}, ('Teamlead2', 4)]"
      ]
     },
     "execution_count": 26,
     "metadata": {},
     "output_type": "execute_result"
    }
   ],
   "source": [
    "#creating a dict using a forloop\n",
    "\n",
    "new_dev_list = {}\n",
    "for name , rating, post in dev_list:\n",
    "    if post in new_dev_list:\n",
    "        new_dev_list[post].append((name, rating))\n",
    "    else:\n",
    "        new_dev_list[post] = [{name, rating}]\n",
    "#remeber that the items() keys() & values() meathodes return respective values\n",
    "new_dev_list['PManager']"
   ]
  },
  {
   "cell_type": "code",
   "execution_count": 34,
   "metadata": {},
   "outputs": [
    {
     "name": "stdout",
     "output_type": "stream",
     "text": [
      "{4, 5, 'related libs'}\n",
      "{4, 5, 6, 'python', 'html/css', 'django', 'related libs', 'vuejs'}\n",
      "{'django', 6, 'python'}\n",
      "{6, 'python', 'html/css', 'django', 'vuejs'}\n"
     ]
    }
   ],
   "source": [
    "#working with sets\n",
    "#intersection(&), union(|), difference(-), symmetric_difference(^)\n",
    "dev1 = {'vuejs','html/css','related libs',4,5}\n",
    "dev2 = {'django','python','related libs',6,5,4}\n",
    "print(dev2 & dev1)\n",
    "print(dev1.union(dev2))\n",
    "print (dev2 .difference(dev1))\n",
    "print(dev1 ^ dev2)"
   ]
  },
  {
   "cell_type": "code",
   "execution_count": 46,
   "metadata": {},
   "outputs": [
    {
     "data": {
      "text/plain": [
       "1"
      ]
     },
     "execution_count": 46,
     "metadata": {},
     "output_type": "execute_result"
    }
   ],
   "source": [
    "#using vetarization with np\n",
    "import numpy as np\n",
    "class_11 = []\n",
    "class_2 = [2,3,5,6,15]\n",
    "class_4 =[10,29,83,35]\n",
    "class_22 = np.array(class_2)\n",
    "class_44 = np.array(class_4)\n",
    "\n",
    "class_44.ndim\n",
    "#type(class_2)\n",
    "#reshaping data with reshape()\n"
   ]
  }
 ],
 "metadata": {
  "kernelspec": {
   "display_name": "exerciseB",
   "language": "python",
   "name": "python3"
  },
  "language_info": {
   "codemirror_mode": {
    "name": "ipython",
    "version": 3
   },
   "file_extension": ".py",
   "mimetype": "text/x-python",
   "name": "python",
   "nbconvert_exporter": "python",
   "pygments_lexer": "ipython3",
   "version": "3.11.2"
  },
  "orig_nbformat": 4
 },
 "nbformat": 4,
 "nbformat_minor": 2
}

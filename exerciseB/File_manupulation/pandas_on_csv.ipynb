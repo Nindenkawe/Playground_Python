{
 "cells": [
  {
   "cell_type": "code",
   "execution_count": 1,
   "metadata": {},
   "outputs": [
    {
     "name": "stdout",
     "output_type": "stream",
     "text": [
      "Country with the highest population:  Brazil\n",
      "Country with the lowest population:  British Virgin Islands\n"
     ]
    }
   ],
   "source": [
    "import pandas as pd\n",
    "\n",
    "def analyze_csv(file_path):\n",
    "    # Read the CSV file into a DataFrame\n",
    "    df = pd.read_csv(file_path)\n",
    "\n",
    "    # Remove duplicates and keep the last occurrence (to get the latest data)\n",
    "    df_no_duplicates = df.drop_duplicates(keep='last')\n",
    "\n",
    "    # Find the country with the highest population\n",
    "    country_highest_population = df_no_duplicates[df_no_duplicates['2019 [YR2019]'] == df_no_duplicates['2019 [YR2019]'].max()]['Country Name'].values[0]\n",
    "\n",
    "    # Find the country with the lowest population\n",
    "    country_lowest_population = df_no_duplicates[df_no_duplicates['2019 [YR2019]'] == df_no_duplicates['2019 [YR2019]'].min()]['Country Name'].values[0]\n",
    "\n",
    "    # Print the results\n",
    "    print(\"Country with the highest population: \", country_highest_population)\n",
    "    print(\"Country with the lowest population: \", country_lowest_population)\n",
    "    #print(df.head(3))\n",
    "\n",
    "if __name__ == \"__main__\":\n",
    "    file_path = \"Population.csv\"\n",
    "    analyze_csv(file_path)"
   ]
  },
  {
   "cell_type": "code",
   "execution_count": 2,
   "metadata": {},
   "outputs": [
    {
     "name": "stdout",
     "output_type": "stream",
     "text": [
      "Data for Haiti:\n",
      "\n",
      "Series Name        Code Country Name Country Code  2010 [YR2010]  2011 [YR2011]  2012 [YR2012]  2013 [YR2013]  2014 [YR2014]  2015 [YR2015]  2016 [YR2016]  2017 [YR2017]  2018 [YR2018]  2019 [YR2019]  Unnamed: 14 Unnamed: 15\n",
      "Population, SP.POP.TOTL        Haiti          HTI        9949322       10100320       10250930       10400673       10549008       10695542       10839970       10982366       11123176       11263077          NaN         NaN\n"
     ]
    }
   ],
   "source": [
    "def remove_duplicates_and_print(file_path):\n",
    "    # Read the CSV file into a DataFrame\n",
    "    df = pd.read_csv(file_path)\n",
    "\n",
    "    # Remove duplicates and keep the first occurrence\n",
    "    df_no_duplicates = df.drop_duplicates()\n",
    "\n",
    "    # Filter data by country name\"\n",
    "    df_virgin_islands = df_no_duplicates[df_no_duplicates['Country Name'] == 'Haiti']\n",
    "\n",
    "    # Print the resulting DataFrame\n",
    "    print(\"Data for Haiti:\\n\")\n",
    "    print(df_virgin_islands.to_string(index=False))\n",
    "\n",
    "if __name__ == \"__main__\":\n",
    "    file_path = \"Population.csv\"\n",
    "    remove_duplicates_and_print(file_path)"
   ]
  },
  {
   "cell_type": "code",
   "execution_count": 15,
   "metadata": {},
   "outputs": [
    {
     "data": {
      "text/plain": [
       "'Bahamas, The'"
      ]
     },
     "execution_count": 15,
     "metadata": {},
     "output_type": "execute_result"
    }
   ],
   "source": [
    "#More with Pandas\n",
    "import pandas as pd\n",
    "df = pd.read_csv('Population.csv')\n",
    "#df['2010 [YR2010]'].max()\n",
    "#df.describe()\n",
    "#df[(df['2013 [YR2013]'] >2000) & (df['Country Name'] == 'Brazil')]\n",
    "df.iloc[3][2]"
   ]
  },
  {
   "cell_type": "markdown",
   "metadata": {},
   "source": [
    "# Convertinting csv to json \n",
    "```\n",
    "import csv\n",
    "import json\n",
    "\n",
    "def csv_to_json(csv_file_path, json_file_path):\n",
    "    # Read CSV data\n",
    "    data = []\n",
    "    with open(csv_file_path, 'r') as csv_file:\n",
    "        csv_reader = csv.DictReader(csv_file)\n",
    "        for row in csv_reader:\n",
    "            data.append(row)\n",
    "\n",
    "    # Write JSON data\n",
    "    with open(json_file_path, 'w') as json_file:\n",
    "        json.dump(data, json_file, indent=4)\n",
    "\n",
    "if __name__ == \"__main__\":\n",
    "    # Replace 'input.csv' with the path to your CSV file and 'output.json' with the desired JSON file path\n",
    "    csv_to_json('Population.csv', 'Population.json')"
   ]
  }
 ],
 "metadata": {
  "kernelspec": {
   "display_name": "Python 3",
   "language": "python",
   "name": "python3"
  },
  "language_info": {
   "codemirror_mode": {
    "name": "ipython",
    "version": 3
   },
   "file_extension": ".py",
   "mimetype": "text/x-python",
   "name": "python",
   "nbconvert_exporter": "python",
   "pygments_lexer": "ipython3",
   "version": "3.11.2"
  },
  "orig_nbformat": 4
 },
 "nbformat": 4,
 "nbformat_minor": 2
}

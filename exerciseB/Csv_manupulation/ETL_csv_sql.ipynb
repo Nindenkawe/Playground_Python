{
 "cells": [
  {
   "cell_type": "code",
   "execution_count": 56,
   "metadata": {},
   "outputs": [
    {
     "name": "stdout",
     "output_type": "stream",
     "text": [
      "Country with the highest population:  Brazil\n",
      "Country with the lowest population:  British Virgin Islands\n"
     ]
    }
   ],
   "source": [
    "import pandas as pd\n",
    "\n",
    "def analyze_csv(file_path):\n",
    "    # Read the CSV file into a DataFrame\n",
    "    df = pd.read_csv(file_path)\n",
    "\n",
    "    # Remove duplicates and keep the last occurrence (to get the latest data)\n",
    "    df_no_duplicates = df.drop_duplicates(keep='last')\n",
    "\n",
    "    # Find the country with the highest population\n",
    "    country_highest_population = df_no_duplicates[df_no_duplicates['2019 [YR2019]'] == df_no_duplicates['2019 [YR2019]'].max()]['Country Name'].values[0]\n",
    "\n",
    "    # Find the country with the lowest population\n",
    "    country_lowest_population = df_no_duplicates[df_no_duplicates['2019 [YR2019]'] == df_no_duplicates['2019 [YR2019]'].min()]['Country Name'].values[0]\n",
    "\n",
    "    # Print the results\n",
    "    print(\"Country with the highest population: \", country_highest_population)\n",
    "    print(\"Country with the lowest population: \", country_lowest_population)\n",
    "    #print(df.head(3))\n",
    "\n",
    "if __name__ == \"__main__\":\n",
    "    file_path = \"Population.csv\"\n",
    "    analyze_csv(file_path)"
   ]
  },
  {
   "cell_type": "code",
   "execution_count": 54,
   "metadata": {},
   "outputs": [
    {
     "name": "stdout",
     "output_type": "stream",
     "text": [
      "Error: 'Net Written Premiums' or 'Net Earned Premiums' not found in the data.\n"
     ]
    }
   ],
   "source": [
    "import pandas as pd\n",
    "\n",
    "def analyze_insurance_data(csv_file):\n",
    "    # Step 1: Read the CSV data into a pandas DataFrame\n",
    "    df = pd.read_csv(csv_file, index_col=0)\n",
    "\n",
    "    # Step 2: Clean the data and remove any unwanted characters like commas and spaces\n",
    "    df = df.replace({',': '', ' ': ''}, regex=True)\n",
    "\n",
    "    # Step 3: Handle parentheses and hyphens, and convert to integers\n",
    "    df = df.applymap(lambda x: int(x.replace('(', '').replace(')', '').replace('-', '0')) if isinstance(x, str) else x)\n",
    "\n",
    "    # Step 4: Handle NaN values and convert to integers\n",
    "    df = df.fillna(0).astype(int)\n",
    "\n",
    "    # Step 5: Calculate key metrics\n",
    "    net_written_premiums = df.loc[df.index.str.lower() == 'net written  premiums', :]\n",
    "    net_earned_premiums = df.loc[df.index.str.lower() == 'net earned premiums', :]\n",
    "\n",
    "    # Check if the required keys exist in the DataFrame\n",
    "    if net_written_premiums.empty or net_earned_premiums.empty:\n",
    "        print(\"Error: 'Net Written Premiums' or 'Net Earned Premiums' not found in the data.\")\n",
    "        return\n",
    "\n",
    "    # Calculate total written and earned premiums for each period\n",
    "    total_written_premiums = net_written_premiums.sum()\n",
    "    total_earned_premiums = net_earned_premiums.sum()\n",
    "\n",
    "    # Calculate percentage change in written and earned premiums over time\n",
    "    percentage_change_written_premiums = ((net_written_premiums.iloc[-1] - net_written_premiums.iloc[0]) / net_written_premiums.iloc[0]) * 100\n",
    "    percentage_change_earned_premiums = ((net_earned_premiums.iloc[-1] - net_earned_premiums.iloc[0]) / net_earned_premiums.iloc[0]) * 100\n",
    "\n",
    "    # Step 6: Find trends and insights\n",
    "    # Identify periods with the highest and lowest written and earned premiums\n",
    "    max_written_premiums_period = net_written_premiums.idxmax()\n",
    "    min_written_premiums_period = net_written_premiums.idxmin()\n",
    "    max_earned_premiums_period = net_earned_premiums.idxmax()\n",
    "    min_earned_premiums_period = net_earned_premiums.idxmin()\n",
    "\n",
    "    # Identify the average written and earned premiums\n",
    "    average_written_premiums = net_written_premiums.mean()\n",
    "    average_earned_premiums = net_earned_premiums.mean()\n",
    "\n",
    "    # Print the key insights\n",
    "    print(\"Key Insights from Insurance Data:\")\n",
    "    print(\"--------------------------------------------------\")\n",
    "    print(f\"Total Written Premiums: {total_written_premiums}\")\n",
    "    print(f\"Total Earned Premiums: {total_earned_premiums}\")\n",
    "    print(\"--------------------------------------------------\")\n",
    "    print(\"Percentage Change in Written Premiums:\")\n",
    "    print(percentage_change_written_premiums)\n",
    "    print(\"--------------------------------------------------\")\n",
    "    print(\"Percentage Change in Earned Premiums:\")\n",
    "    print(percentage_change_earned_premiums)\n",
    "    print(\"--------------------------------------------------\")\n",
    "    print(f\"Period with Highest Written Premiums: {max_written_premiums_period}\")\n",
    "    print(f\"Period with Lowest Written Premiums: {min_written_premiums_period}\")\n",
    "    print(f\"Period with Highest Earned Premiums: {max_earned_premiums_period}\")\n",
    "    print(f\"Period with Lowest Earned Premiums: {min_earned_premiums_period}\")\n",
    "    print(\"--------------------------------------------------\")\n",
    "    print(f\"Average Written Premiums: {average_written_premiums}\")\n",
    "    print(f\"Average Earned Premiums: {average_earned_premiums}\")\n",
    "    print(\"--------------------------------------------------\")\n",
    "\n",
    "# Example usage:\n",
    "csv_file_path = \"Insurance.csv\"\n",
    "analyze_insurance_data(csv_file_path)\n"
   ]
  }
 ],
 "metadata": {
  "kernelspec": {
   "display_name": "Python 3",
   "language": "python",
   "name": "python3"
  },
  "language_info": {
   "codemirror_mode": {
    "name": "ipython",
    "version": 3
   },
   "file_extension": ".py",
   "mimetype": "text/x-python",
   "name": "python",
   "nbconvert_exporter": "python",
   "pygments_lexer": "ipython3",
   "version": "3.11.2"
  },
  "orig_nbformat": 4
 },
 "nbformat": 4,
 "nbformat_minor": 2
}
